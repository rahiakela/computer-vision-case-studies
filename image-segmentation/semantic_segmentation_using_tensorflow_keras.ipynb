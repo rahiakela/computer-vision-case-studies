{
  "nbformat": 4,
  "nbformat_minor": 0,
  "metadata": {
    "colab": {
      "name": "semantic-segmentation-using-tensorflow-keras.ipynb",
      "provenance": [],
      "authorship_tag": "ABX9TyMd6V9rL2Ibk0whPdBJv8dy",
      "include_colab_link": true
    },
    "kernelspec": {
      "name": "python3",
      "display_name": "Python 3"
    },
    "language_info": {
      "name": "python"
    }
  },
  "cells": [
    {
      "cell_type": "markdown",
      "metadata": {
        "id": "view-in-github",
        "colab_type": "text"
      },
      "source": [
        "<a href=\"https://colab.research.google.com/github/rahiakela/computer-vision-case-studies/blob/master/image-segmentation/semantic_segmentation_using_tensorflow_keras.ipynb\" target=\"_parent\"><img src=\"https://colab.research.google.com/assets/colab-badge.svg\" alt=\"Open In Colab\"/></a>"
      ]
    },
    {
      "cell_type": "markdown",
      "metadata": {
        "id": "frGY_ADv4pYR"
      },
      "source": [
        "## Semantic Segmentation Using TensorFlow Keras"
      ]
    }
  ]
}